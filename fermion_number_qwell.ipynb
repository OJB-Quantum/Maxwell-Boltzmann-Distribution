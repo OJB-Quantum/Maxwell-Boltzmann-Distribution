{
  "cells": [
    {
      "cell_type": "markdown",
      "metadata": {
        "id": "view-in-github",
        "colab_type": "text"
      },
      "source": [
        "<a href=\"https://colab.research.google.com/github/OJB-Quantum/Maxwell-Boltzmann-Distribution/blob/main/fermion_number_qwell.ipynb\" target=\"_parent\"><img src=\"https://colab.research.google.com/assets/colab-badge.svg\" alt=\"Open In Colab\"/></a>"
      ]
    },
    {
      "cell_type": "code",
      "execution_count": 1,
      "id": "f428b4fc-dbf0-46d7-b7d6-fde375b66323",
      "metadata": {
        "id": "f428b4fc-dbf0-46d7-b7d6-fde375b66323"
      },
      "outputs": [],
      "source": [
        "# EE 5163 Fall 2024\n",
        "# This program calculates the total number of fermions in a 1D quantum well of length L\n",
        "# Install numpy and matplotlib libraries to use it\n",
        "# pip install numpy matplotlib\n",
        "import numpy as np\n",
        "import matplotlib.pyplot as plt"
      ]
    },
    {
      "cell_type": "markdown",
      "source": [
        "Modify the script to result in the entire list of the energy levels and the Fermi Distribution as it changes from 1 to 0 at an energy level of 0.94 eV (where it equals 1 on the Fermi Distr.) and an energy level of 1.13 eV (where it equals 0 on the Fermi Distr.).\n",
        "\n",
        "E_1 should be 0.0094 eV and E_11 should be 1.13 eV, everything else in between can be referenced from the snapshot of the whiteboard."
      ],
      "metadata": {
        "id": "JtyfKHtIzhFX"
      },
      "id": "JtyfKHtIzhFX"
    },
    {
      "cell_type": "code",
      "execution_count": 2,
      "id": "200ab51c-f58c-498a-9d8e-3c7d6c2b4287",
      "metadata": {
        "id": "200ab51c-f58c-498a-9d8e-3c7d6c2b4287"
      },
      "outputs": [],
      "source": [
        "# Constants\n",
        "# g_some number or gn = degeneracy representing the total possible states (usually up spin and down spin or angular momentum).\n",
        "k_B = 1.380649e-23 # in J/K\n",
        "hbar = 6.626070e-34/(2 * np.pi) # in J.s\n",
        "q0 = 1.602e-19 # fundamental charge in C\n",
        "m = 9.109e-31 # electron rest mass in kg\n",
        "\n",
        "# Parameters\n",
        "m_eff = 0.1*m # effective mass in kg\n",
        "EF = 1 * q0 # Fermi level in Joules\n",
        "L = 20e-9 # Well width in meters. Think of this as the size of your quantum dot.\n",
        "\n",
        "def energy_level(n, L):\n",
        "    \"\"\"Calculate the energy of the nth level in a 1D quantum well of length L.\"\"\"\n",
        "    return (n**2 * np.pi**2 * hbar**2) / (2 * m_eff * L**2)\n",
        "\n",
        "def fermi_dirac(E, EF, T):\n",
        "    \"\"\"Fermi-Dirac distribution function.\"\"\"\n",
        "    return 1.0 / (np.exp((E - EF) / (k_B * T)) + 1)\n",
        "\n",
        "def calculate_total_fermions(L, EF, T, max_n=1000):\n",
        "    \"\"\"Calculate the total number of fermions in the well.\"\"\"\n",
        "    total_fermions = 0\n",
        "    for n in range(1, max_n + 1):\n",
        "        En = energy_level(n, L)\n",
        "        gn = 2\n",
        "        occupation = gn * fermi_dirac(En, EF, T)\n",
        "        total_fermions += occupation\n",
        "\n",
        "        # Stop if the energy level is significantly higher than EF\n",
        "        # if En > EF + 50 * k_B * T:\n",
        "        #     break\n",
        "\n",
        "    return total_fermions\n",
        "\n",
        "    # (# symbol means the number of electrons)."
      ]
    },
    {
      "cell_type": "code",
      "execution_count": null,
      "id": "dffa7753-5413-43b6-90db-d2d09d9e1a2a",
      "metadata": {
        "id": "dffa7753-5413-43b6-90db-d2d09d9e1a2a",
        "outputId": "efcc273e-1211-4d53-dbcd-42d731426c97"
      },
      "outputs": [
        {
          "name": "stdout",
          "output_type": "stream",
          "text": [
            "There are 20.0 fermions in the 1d quantum well with EF = 1.0 eV and length L = 20.0 nm\n",
            "There are 19.56187697244321 fermions in the 1d quantum well with EF = 1.0 eV and length L = 20.0 nm \n",
            " \n",
            "\n",
            "First 20 energy levels: \n",
            "\n",
            "E1 = 0.009402186186900287 eV\n",
            "E2 = 0.03760874474760115 eV\n",
            "E3 = 0.08461967568210259 eV\n",
            "E4 = 0.1504349789904046 eV\n",
            "E5 = 0.23505465467250716 eV\n",
            "E6 = 0.33847870272841035 eV\n",
            "E7 = 0.4607071231581141 eV\n",
            "E8 = 0.6017399159616184 eV\n",
            "E9 = 0.7615770811389233 eV\n",
            "E10 = 0.9402186186900287 eV\n",
            "E11 = 1.1376645286149347 eV\n",
            "E12 = 1.3539148109136414 eV\n",
            "E13 = 1.5889694655861484 eV\n",
            "E14 = 1.8428284926324563 eV\n",
            "E15 = 2.1154918920525643 eV\n",
            "E16 = 2.4069596638464734 eV\n",
            "E17 = 2.717231808014183 eV\n",
            "E18 = 3.0463083245556932 eV\n",
            "E19 = 3.394189213471003 eV\n"
          ]
        },
        {
          "name": "stderr",
          "output_type": "stream",
          "text": [
            "/var/folders/2d/b81z17qx73d6ns1dy0y6jrgh0000gn/T/ipykernel_3326/2155293071.py:18: RuntimeWarning: overflow encountered in exp\n",
            "  return 1.0 / (np.exp((E - EF) / (k_B * T)) + 1)\n"
          ]
        }
      ],
      "source": [
        "# This portion calculates the total number of Fermions in the system at temperature T and Fermi level E_F\n",
        "T1 = 0.01 # temperature in K\n",
        "T2 = 1000\n",
        "N_fermi1 = calculate_total_fermions(L, EF, T1, max_n=1000)\n",
        "N_fermi2 = calculate_total_fermions(L, EF, T2, max_n=1000)\n",
        "\n",
        "print(f\"There are {N_fermi1} fermions in the 1d quantum well with EF = {EF/q0} eV and length L = {L*1e9} nm\")\n",
        "print(f\"There are {N_fermi2} fermions in the 1d quantum well with EF = {EF/q0} eV and length L = {L*1e9} nm \\n \\n\")\n",
        "\n",
        "Nlvl = 20\n",
        "energies = [en for en in range(1,Nlvl)]\n",
        "\n",
        "print(f\"First {Nlvl} energy levels: \\n\")\n",
        "for i in energies:\n",
        "    e_n = energy_level(i,L)\n",
        "    print(f\"E{i} = {e_n/q0} eV\")\n"
      ]
    },
    {
      "cell_type": "code",
      "execution_count": null,
      "id": "fb15f322-3bfe-4329-9656-6b60f7a797b0",
      "metadata": {
        "id": "fb15f322-3bfe-4329-9656-6b60f7a797b0",
        "outputId": "ac6e9fd5-65c5-4f72-f6e5-7521fb95bc38"
      },
      "outputs": [
        {
          "name": "stderr",
          "output_type": "stream",
          "text": [
            "/var/folders/2d/b81z17qx73d6ns1dy0y6jrgh0000gn/T/ipykernel_3326/2155293071.py:18: RuntimeWarning: overflow encountered in exp\n",
            "  return 1.0 / (np.exp((E - EF) / (k_B * T)) + 1)\n"
          ]
        },
        {
          "data": {
            "image/png": "[encoded data removed]",
            "text/plain": [
              "<Figure size 800x600 with 1 Axes>"
            ]
          },
          "metadata": {},
          "output_type": "display_data"
        }
      ],
      "source": [
        "def plot_fermions_vs_temperature(L, EF1, EF2, T_min, T_max, num_points):\n",
        "    \"\"\"Plot the number of fermions as a function of temperature.\"\"\"\n",
        "    temperatures = np.linspace(T_min, T_max, num_points)\n",
        "    fermion_counts1 = []\n",
        "    fermion_counts2 = []\n",
        "\n",
        "    for T in temperatures:\n",
        "        fermion_count1 = calculate_total_fermions(L, EF1, T)\n",
        "        fermion_count2 = calculate_total_fermions(L, EF2, T)\n",
        "        fermion_counts1.append(fermion_count1)\n",
        "        fermion_counts2.append(fermion_count2)\n",
        "\n",
        "    plt.figure(figsize=(8, 6))\n",
        "    plt.plot(temperatures, fermion_counts1, label=f\"E_F = {EF1/q0} eV\")\n",
        "    plt.plot(temperatures, fermion_counts2, label=f\"E_F = {EF2/q0} eV\")\n",
        "    plt.xlabel(\"Temperature (K)\")\n",
        "    plt.ylabel(\"Number of Fermions\")\n",
        "    # plt.ylim(0,20)\n",
        "    plt.xlim(T_min, T_max)\n",
        "    # plt.title(f\"Number of Fermions vs Temperature (EF = {EF/q0} eV)\")\n",
        "    plt.grid(True)\n",
        "    plt.legend()\n",
        "    plt.show()\n",
        "\n",
        "# Parameters for the temperature range\n",
        "T_min = 1e-3   # Minimum temperature in Kelvin\n",
        "T_max = 2300    # Maximum temperature in Kelvin\n",
        "num_points = 1000  # Number of temperature points\n",
        "\n",
        "# Plot the number of fermions as a function of temperature\n",
        "EF1 = 4 * q0;\n",
        "EF2 = 4 * q0;\n",
        "\n",
        "plot_fermions_vs_temperature(L, EF1, EF2, T_min, T_max, num_points)"
      ]
    },
    {
      "cell_type": "code",
      "execution_count": null,
      "id": "e2b39a67-3923-43de-99f9-c559ea0618bd",
      "metadata": {
        "id": "e2b39a67-3923-43de-99f9-c559ea0618bd"
      },
      "outputs": [],
      "source": []
    }
  ],
  "metadata": {
    "kernelspec": {
      "display_name": "Python 3 (ipykernel)",
      "language": "python",
      "name": "python3"
    },
    "language_info": {
      "codemirror_mode": {
        "name": "ipython",
        "version": 3
      },
      "file_extension": ".py",
      "mimetype": "text/x-python",
      "name": "python",
      "nbconvert_exporter": "python",
      "pygments_lexer": "ipython3",
      "version": "3.12.5"
    },
    "colab": {
      "provenance": [],
      "include_colab_link": true
    }
  },
  "nbformat": 4,
  "nbformat_minor": 5
}